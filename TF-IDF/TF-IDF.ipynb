{
 "cells": [
  {
   "metadata": {},
   "cell_type": "markdown",
   "source": "# TF-IDF",
   "id": "6a1d51ad1262bb43"
  },
  {
   "metadata": {
    "ExecuteTime": {
     "end_time": "2024-06-16T06:28:28.447990Z",
     "start_time": "2024-06-16T06:28:26.042218Z"
    }
   },
   "cell_type": "code",
   "source": [
    "from sklearn.feature_extraction.text import TfidfVectorizer\n",
    "from sklearn.metrics.pairwise import cosine_similarity\n",
    "import numpy as np"
   ],
   "id": "995a1889af0cf9cc",
   "outputs": [],
   "execution_count": 1
  },
  {
   "metadata": {
    "ExecuteTime": {
     "end_time": "2024-06-16T06:28:28.472712Z",
     "start_time": "2024-06-16T06:28:28.458369Z"
    }
   },
   "cell_type": "code",
   "source": [
    "documents = [\n",
    "    'Как купить полис ОСАГО?', #1\n",
    "    'Не пришел полис',         #2\n",
    "    'Я пришел к вам за ОСАГО', #3\n",
    "    'Как взять не займ, а кредит?', #4\n",
    "    'Как взять ОСАГО?',        #5\n",
    "]"
   ],
   "id": "aae0b70cb5c4632e",
   "outputs": [],
   "execution_count": 2
  },
  {
   "metadata": {
    "ExecuteTime": {
     "end_time": "2024-06-16T06:28:28.532130Z",
     "start_time": "2024-06-16T06:28:28.485367Z"
    }
   },
   "cell_type": "code",
   "source": [
    "vectorizer = TfidfVectorizer()\n",
    "tfidf_matrix = vectorizer.fit_transform(documents)"
   ],
   "id": "3be95ae74dc7679a",
   "outputs": [],
   "execution_count": 3
  },
  {
   "metadata": {
    "ExecuteTime": {
     "end_time": "2024-06-16T06:28:28.600393Z",
     "start_time": "2024-06-16T06:28:28.573694Z"
    }
   },
   "cell_type": "code",
   "source": [
    "cosine_similarities = cosine_similarity(tfidf_matrix)\n",
    "similarities_with_fifth = cosine_similarities[4]"
   ],
   "id": "f2b58e15a84bcbfa",
   "outputs": [],
   "execution_count": 4
  },
  {
   "metadata": {
    "ExecuteTime": {
     "end_time": "2024-06-16T06:28:28.659282Z",
     "start_time": "2024-06-16T06:28:28.619730Z"
    }
   },
   "cell_type": "code",
   "source": "similarities_with_fifth",
   "id": "b3d7c7fc6db4a864",
   "outputs": [
    {
     "data": {
      "text/plain": [
       "array([0.4516825 , 0.        , 0.20476572, 0.45630401, 1.        ])"
      ]
     },
     "execution_count": 5,
     "metadata": {},
     "output_type": "execute_result"
    }
   ],
   "execution_count": 5
  },
  {
   "metadata": {
    "ExecuteTime": {
     "end_time": "2024-06-16T06:28:28.692687Z",
     "start_time": "2024-06-16T06:28:28.671467Z"
    }
   },
   "cell_type": "code",
   "source": [
    "doc_indices = [0,1,2,3]\n",
    "sorted_indices = sorted(doc_indices, key=lambda i:similarities_with_fifth[i], reverse=True)\n",
    "sorted_docs = [i+1 for i in sorted_indices]\n",
    "sorted_docs"
   ],
   "id": "e72996538a5127e9",
   "outputs": [
    {
     "data": {
      "text/plain": [
       "[4, 1, 3, 2]"
      ]
     },
     "execution_count": 6,
     "metadata": {},
     "output_type": "execute_result"
    }
   ],
   "execution_count": 6
  }
 ],
 "metadata": {
  "kernelspec": {
   "display_name": "Python 3",
   "language": "python",
   "name": "python3"
  },
  "language_info": {
   "codemirror_mode": {
    "name": "ipython",
    "version": 2
   },
   "file_extension": ".py",
   "mimetype": "text/x-python",
   "name": "python",
   "nbconvert_exporter": "python",
   "pygments_lexer": "ipython2",
   "version": "2.7.6"
  }
 },
 "nbformat": 4,
 "nbformat_minor": 5
}
